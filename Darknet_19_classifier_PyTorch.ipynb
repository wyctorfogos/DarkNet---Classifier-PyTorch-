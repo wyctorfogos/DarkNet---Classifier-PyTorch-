{
  "nbformat": 4,
  "nbformat_minor": 0,
  "metadata": {
    "colab": {
      "provenance": [],
      "collapsed_sections": [],
      "authorship_tag": "ABX9TyOKIhDFuPqlooVfkWytNsF0",
      "include_colab_link": true
    },
    "kernelspec": {
      "name": "python3",
      "display_name": "Python 3"
    },
    "language_info": {
      "name": "python"
    },
    "gpuClass": "standard"
  },
  "cells": [
    {
      "cell_type": "markdown",
      "metadata": {
        "id": "view-in-github",
        "colab_type": "text"
      },
      "source": [
        "<a href=\"https://colab.research.google.com/github/wyctorfogos/DarkNet---Classifier-PyTorch-/blob/main/Darknet_19_classifier_PyTorch.ipynb\" target=\"_parent\"><img src=\"https://colab.research.google.com/assets/colab-badge.svg\" alt=\"Open In Colab\"/></a>"
      ]
    },
    {
      "cell_type": "code",
      "execution_count": 1,
      "metadata": {
        "id": "Tqw8gSRgXkCb",
        "colab": {
          "base_uri": "https://localhost:8080/"
        },
        "outputId": "3a48b821-5aad-480e-85a4-a20af2fb01b0"
      },
      "outputs": [
        {
          "output_type": "execute_result",
          "data": {
            "text/plain": [
              "<torch._C.Generator at 0x7feab2725a30>"
            ]
          },
          "metadata": {},
          "execution_count": 1
        }
      ],
      "source": [
        "import torch\n",
        "from torch import nn\n",
        "from torch.optim import Adam, SGD, RMSprop\n",
        "import torchvision\n",
        "from torchvision import datasets\n",
        "from torchvision import transforms\n",
        "from torch.utils.data import DataLoader, Dataset\n",
        "\n",
        "torch.manual_seed(17)"
      ]
    },
    {
      "cell_type": "code",
      "source": [
        "transformations = transforms.Compose([\n",
        "#    transforms.Resize((224, 224)),\n",
        "    transforms.ToTensor(),\n",
        "    transforms.Normalize(mean=0., std=1.)\n",
        "])"
      ],
      "metadata": {
        "id": "JXLqJM5oS3i6"
      },
      "execution_count": 2,
      "outputs": []
    },
    {
      "cell_type": "code",
      "source": [
        "from torchvision.datasets.fakedata import transforms\n",
        "\n",
        "train= datasets.CIFAR10(root='data', download=True, train=True, transform=transformations)\n",
        "test= datasets.CIFAR10(root='data',download=True, train=False, transform=transformations)\n",
        "\n",
        "#train = datasets.VOCDetection(root= './data', year = '2012', image_set = 'train', download = True, transform = transformations)\n",
        "#test = datasets.VOCDetection(root= './data', year = '2012', image_set = 'val', download = True, transform = transformations)\n",
        "\n",
        "batch=1\n",
        "\n",
        "dataset_train = DataLoader(train, batch_size=batch, shuffle=True)\n",
        "dataset_test = DataLoader(test, batch_size=batch, shuffle=False)"
      ],
      "metadata": {
        "colab": {
          "base_uri": "https://localhost:8080/"
        },
        "id": "-G9teUhOYsRK",
        "outputId": "be2d1351-3f50-4930-c47c-a811b3458512"
      },
      "execution_count": 48,
      "outputs": [
        {
          "output_type": "stream",
          "name": "stdout",
          "text": [
            "Files already downloaded and verified\n",
            "Files already downloaded and verified\n"
          ]
        }
      ]
    },
    {
      "cell_type": "markdown",
      "source": [
        "Test dataset"
      ],
      "metadata": {
        "id": "_rktX92kpcTK"
      }
    },
    {
      "cell_type": "code",
      "source": [
        "import matplotlib.pyplot as plt\n",
        "import numpy as np\n",
        "\n",
        "data_iter = iter(dataset_train)\n",
        "images, labels = data_iter.next()\n",
        "\n",
        "def plot_images(img):\n",
        "    img = img / 2 + 0.5  # unnormalize\n",
        "    npimg = img.numpy()\n",
        "    plt.imshow(np.transpose(npimg, (1, 2, 0)))\n",
        "    plt.show()\n",
        "\n",
        "# show images\n",
        "plot_images(torchvision.utils.make_grid(images))\n",
        "\n",
        "\n",
        "del images\n",
        "del labels"
      ],
      "metadata": {
        "colab": {
          "base_uri": "https://localhost:8080/",
          "height": 266
        },
        "id": "uELYkaRuohrk",
        "outputId": "89c731f9-e4bb-4a93-deaa-17468602b007"
      },
      "execution_count": 49,
      "outputs": [
        {
          "output_type": "display_data",
          "data": {
            "text/plain": [
              "<Figure size 432x288 with 1 Axes>"
            ],
            "image/png": "[encoded data removed]"
          },
          "metadata": {
            "needs_background": "light"
          }
        }
      ]
    },
    {
      "cell_type": "code",
      "source": [
        "##Darknet-19 model\n",
        "\n",
        "class BlockConv1(nn.Module):\n",
        "  def __init__(self, input_channels, output_channels, num_kernel=1, size_stride=1, *kwgars):\n",
        "    super().__init__()\n",
        "    self.conv1 = nn.Conv2d(input_channels,output_channels, kernel_size=num_kernel*3, stride=size_stride, padding=1)\n",
        "    self.batch1 = nn.BatchNorm2d(output_channels)\n",
        "    self.conv2 = nn.Conv2d(output_channels,input_channels, kernel_size=num_kernel, stride=(size_stride), padding=0)\n",
        "    self.batch2 = nn.BatchNorm2d(input_channels)\n",
        "    self.conv3 = nn.Conv2d(input_channels,output_channels, kernel_size=num_kernel*3, stride=size_stride, padding=1)\n",
        "    self.batch3 = nn.BatchNorm2d(output_channels)\n",
        "    self.max_pool=nn.MaxPool2d(kernel_size=2, stride=2)\n",
        "    self.relu= nn.ReLU()\n",
        "\n",
        "  def forward(self,x):\n",
        "    X = self.relu(self.batch1(self.conv1(x)))\n",
        "    X= self.relu(self.batch2(self.conv2(X)))\n",
        "    X = self.relu(self.conv3(X))\n",
        "    X = self.conv3(X)\n",
        "    X = self.relu(self.batch3(self.conv3(x)))\n",
        "    X = self.max_pool(X)\n",
        "    return X\n",
        "\n",
        "class DarkNetClassifier(nn.Module):\n",
        "  def __init__(self, Block1Conv1, input_channels=3, num__kernels=1,  num_stride=1, num_classes=20):\n",
        "    self.num_classes=num_classes\n",
        "\n",
        "    ##Darknet part\n",
        "    super(DarkNetClassifier, self).__init__()\n",
        "    self.conv1 = nn.Conv2d(input_channels,32, kernel_size = 3*num__kernels, stride = num_stride*3, padding=1, bias=False)\n",
        "    self.batch1= nn.BatchNorm2d(32)\n",
        "    self.max_pool1=nn.MaxPool2d(kernel_size = 2, stride = 2)\n",
        "    self.conv2 = nn.Conv2d(32,64, kernel_size = (3*num__kernels), stride = num_stride*3, padding=1, bias=False)\n",
        "    self.batch2= nn.BatchNorm2d(64)\n",
        "    self.max_pool2=nn.MaxPool2d(kernel_size = 2, stride = 2)\n",
        "\n",
        "    ##self.block1 = BlockConv1(input_channels=64,output_channels=128,num_kernel=(num__kernels), size_stride=num_stride)\n",
        "    ##self.block2 = BlockConv1(input_channels=128,output_channels=256,num_kernel=(num__kernels), size_stride=num_stride)\n",
        "    self.conv1_block1 = nn.Conv2d(64, 128, kernel_size=num__kernels*3, stride=num_stride, padding=1)\n",
        "    self.batch1_block1 = nn.BatchNorm2d(128)\n",
        "    self.conv2_block1 = nn.Conv2d(128,64, kernel_size=num__kernels, stride=(num_stride), padding=0)\n",
        "    self.batch2_block1 = nn.BatchNorm2d(64)\n",
        "    self.conv3_block1 = nn.Conv2d(64,128, kernel_size=num__kernels*3, stride=num_stride, padding=1)\n",
        "    self.batch3_block1 = nn.BatchNorm2d(128)\n",
        "    self.max_pool1_block1=nn.MaxPool2d(kernel_size=2, stride=2)\n",
        "\n",
        "    self.conv1_block2 = nn.Conv2d(128, 256, kernel_size=num__kernels*3, stride=num_stride, padding=1)\n",
        "    self.batch1_block2 = nn.BatchNorm2d(256)\n",
        "    self.conv2_block2 = nn.Conv2d(256,128, kernel_size=num__kernels, stride=(num_stride), padding=0)\n",
        "    self.batch2_block2 = nn.BatchNorm2d(128)\n",
        "    self.conv3_block2 = nn.Conv2d(128,256, kernel_size=num__kernels*3, stride=num_stride, padding=1)\n",
        "    self.batch3_block2 = nn.BatchNorm2d(256)\n",
        "    self.max_pool1_block2=nn.MaxPool2d(kernel_size=2, stride=2)\n",
        "  \n",
        "    \n",
        "    self.conv3 = nn.Conv2d(256,512, kernel_size = (3*num__kernels), stride = num_stride, padding=1, bias=False)\n",
        "    self.batch3= nn.BatchNorm2d(512)\n",
        "    self.conv4 = nn.Conv2d(512,256, kernel_size = (num__kernels), stride = (num_stride), padding=0, bias=False)\n",
        "    self.batch4= nn.BatchNorm2d(256)\n",
        "    self.conv5 = nn.Conv2d(256,512, kernel_size = (3*num__kernels), stride = num_stride, padding=1, bias=False)\n",
        "    self.batch5= nn.BatchNorm2d(512)\n",
        "    self.conv6 = nn.Conv2d(512,256, kernel_size = (num__kernels), stride = (num_stride), padding=1, bias=False)\n",
        "    self.batch6= nn.BatchNorm2d(256)\n",
        "    self.conv7 = nn.Conv2d(256,512, kernel_size = (3*num__kernels), stride = num_stride, padding=1, bias=False)\n",
        "    self.batch7= nn.BatchNorm2d(512)\n",
        "    self.max_pool3=nn.MaxPool2d(kernel_size = 2, stride = 2)\n",
        "\n",
        "    self.conv8 = nn.Conv2d(512, 1024, kernel_size = (3*num__kernels), stride = num_stride, padding=1, bias=False)\n",
        "    self.batch8= nn.BatchNorm2d(1024)\n",
        "    self.conv9 = nn.Conv2d(1024, 512, kernel_size = (num__kernels), stride = num_stride, padding=0, bias=False)\n",
        "    self.batch9= nn.BatchNorm2d(512)\n",
        "    self.conv10 = nn.Conv2d(512, 1024, kernel_size = (3*num__kernels), stride = num_stride, padding=1, bias=False)\n",
        "    self.batch10= nn.BatchNorm2d(1024)\n",
        "    self.conv11 = nn.Conv2d(1024, 512, kernel_size = (num__kernels), stride = (num_stride), padding=1, bias=False)\n",
        "    self.batch11= nn.BatchNorm2d(512)\n",
        "    self.conv12 = nn.Conv2d(512, 1024, kernel_size = (3*num__kernels), stride = num_stride, padding=1, bias=False)\n",
        "    self.batch12 = nn.BatchNorm2d(1024)\n",
        "\n",
        "    self.conv_last_layer=nn.Conv2d(1024,num_classes,kernel_size=(1,1), stride = (1,1), padding=1, bias=False)\n",
        "\n",
        "    self.flatten= nn.Flatten()\n",
        "    self.soft=nn.Softmax(dim=1)\n",
        "\n",
        "    self.relu= nn.ReLU(0.1)\n",
        "\n",
        "  def forward(self,x):\n",
        "    #model= self.soft(self.fc(self.avg(self.conv_last_layer(self.conv12(self.conv11(self.conv10(self.conv9(self.conv8(self.max_pool3(self.conv7(self.conv6(self.conv5(self.conv4(self.conv3(self.block2(self.block1(self.max_pool2(self.conv2(self.max_pool1(self.conv1(x)))))))))))))))))))))\n",
        "    X = self.relu(self.batch1(self.conv1(x)))\n",
        "    X = self.max_pool1(X)\n",
        "    X = self.relu(self.batch2(self.conv2(X)))\n",
        "    X = self.max_pool2(X)\n",
        "\n",
        "    X = self.relu(self.batch1_block1(self.conv1_block1(X)))\n",
        "    X = self.relu(self.batch2_block1(self.conv2_block1(X)))\n",
        "    X = self.relu(self.batch3_block1(self.conv3_block1(X)))\n",
        "    x = self.max_pool1_block1(X)\n",
        "    \n",
        "    X = self.relu(self.batch1_block2(self.conv1_block2(X)))\n",
        "    X = self.relu(self.batch2_block2(self.conv2_block2(X)))\n",
        "    X = self.relu(self.batch3_block2(self.conv3_block2(X)))\n",
        "    X = self.max_pool1_block2(X)\n",
        "\n",
        "\n",
        "    ##X = self.block1(X)\n",
        "    ##X = self.block2(X)\n",
        "\n",
        "    X = self.relu(self.batch7(self.conv7(self.relu(self.batch6(self.conv6(self.relu(self.batch5(self.conv5(self.relu(self.batch4(self.conv4(self.relu(self.batch3(self.conv3(X)))))))))))))))\n",
        "    X = self.max_pool3(X)\n",
        "    X = self.conv_last_layer(self.relu(self.batch12(self.conv12(self.relu(self.batch11(self.conv11(self.relu(self.batch10(self.conv10(self.relu(self.batch9(self.conv9(self.relu(self.batch8(self.conv8(X))))))))))))))))\n",
        "    \n",
        "    ##Classifier part\n",
        "    N = X.data.size(0)\n",
        "    C = X.data.size(1)\n",
        "    H = X.data.size(2)\n",
        "    W = X.data.size(3)\n",
        "\n",
        "    #print(N,C,H,W)\n",
        "\n",
        "    x = nn.AvgPool2d(X, (H, W))\n",
        "    X = X.view(-1, (N*C*H*W))\n",
        "    X = nn.Linear((N*C*H*W), self.num_classes)(X)\n",
        "    X = self.soft(X)\n",
        "    #X = nn.Linear((N*C*H*W), self.num_classes)(X)\n",
        "\n",
        "    \n",
        "    return X\n",
        "\n"
      ],
      "metadata": {
        "id": "sO_oNXPQZcBm"
      },
      "execution_count": 50,
      "outputs": []
    },
    {
      "cell_type": "code",
      "source": [
        "\n",
        "def test():\n",
        "  model=DarkNetClassifier(BlockConv1, input_channels=3, num__kernels=1,  num_stride=1, num_classes=10)\n",
        "  X=torch.rand(1, 3, 224, 224)\n",
        "#  X.permute(0, 3, 1, 2)\n",
        "  device = torch.device(\"cuda:0\" if torch.cuda.is_available() else \"cpu\") \n",
        "  Y = model(X).to(device)\n",
        "#  Y = model.to(device)\n",
        "  print(Y)\n",
        "  #model.to(device)\n",
        "  return model"
      ],
      "metadata": {
        "id": "kAo5Hw5nJ2lf"
      },
      "execution_count": 51,
      "outputs": []
    },
    {
      "cell_type": "code",
      "source": [
        "model=test()\n",
        "del model"
      ],
      "metadata": {
        "colab": {
          "base_uri": "https://localhost:8080/"
        },
        "id": "oOeNwT1FMgFv",
        "outputId": "0ee95479-fdf1-4a9d-f860-7be74ea7188e"
      },
      "execution_count": 52,
      "outputs": [
        {
          "output_type": "stream",
          "name": "stdout",
          "text": [
            "tensor([[0.0972, 0.0772, 0.0989, 0.1034, 0.1314, 0.0916, 0.0871, 0.1147, 0.1035,\n",
            "         0.0949]], grad_fn=<SoftmaxBackward0>)\n"
          ]
        }
      ]
    },
    {
      "cell_type": "code",
      "source": [
        "class ConvClassifier(nn.Module):\n",
        "  def __init__(self, num_classes):\n",
        "    super().__init__()\n",
        "    self.conv1 = nn.Conv2d(3, 6, 5)\n",
        "    self.max_pool = nn.MaxPool2d(2, 2)\n",
        "    self.conv2 = nn.Conv2d(6, 16, 5)\n",
        "    self.fc1 = nn.Linear(16 * 5 * 5, 120)\n",
        "    self.fc2 = nn.Linear(120, 84)\n",
        "    self.fc3 = nn.Linear(84, num_classes)\n",
        "\n",
        "    ##activation function\n",
        "    self.relu= nn.ReLU()\n",
        "\n",
        "  def forward(self,x):\n",
        "    X = self.relu(self.conv1(x))\n",
        "    X= self.max_pool(X)\n",
        "    X = self.relu(self.conv2(X))\n",
        "    X= self.max_pool(X)\n",
        "    X = X.view(-1 ,16*5*5)\n",
        "    X= self.fc1(X)\n",
        "    X = self.fc2(X)\n",
        "    model =self.fc3(X)\n",
        "    \n",
        "    return model\n",
        "\n",
        "def test_ConvClassifier():\n",
        "  model=ConvClassifier(num_classes=10)\n",
        "  X=torch.rand(1,3,32,32)\n",
        "  #X.permute(0, 3, 1, 2)\n",
        "  device = torch.device(\"cuda:0\" if torch.cuda.is_available() else \"cpu\") \n",
        "  Y = model(X).to(device)\n",
        "  print(torch.argmax(Y))\n",
        "  #model.to(device)\n",
        "  return model"
      ],
      "metadata": {
        "id": "M1-e8EGjc_CZ"
      },
      "execution_count": 8,
      "outputs": []
    },
    {
      "cell_type": "code",
      "source": [
        "model=test_ConvClassifier()\n",
        "\n",
        "del model"
      ],
      "metadata": {
        "id": "qh7qBU0Tq-vA",
        "colab": {
          "base_uri": "https://localhost:8080/"
        },
        "outputId": "a5e4a767-aca2-4b7b-c738-17e4eda44c7f"
      },
      "execution_count": 9,
      "outputs": [
        {
          "output_type": "stream",
          "name": "stdout",
          "text": [
            "tensor(5)\n"
          ]
        }
      ]
    },
    {
      "cell_type": "code",
      "source": [
        "class_names={'person':0, 'bird': 1, 'cat':2, 'cow':3, 'dog':4, 'horse':5, 'sheep':6, 'aeroplane':7, 'bicycle':8, 'boat':9, 'bus':10, 'car':11, 'motorbike':12, 'train':13, 'bottle':14, 'chair':15, 'dining table':16, 'potted plant':17, 'sofa':18, 'tv/monitor':19}"
      ],
      "metadata": {
        "id": "4v0fYpM4MesM"
      },
      "execution_count": 10,
      "outputs": []
    },
    {
      "cell_type": "code",
      "source": [
        "number=class_names.get('bicycle')\n",
        "print(number)"
      ],
      "metadata": {
        "id": "EWhWo2y6NzUD",
        "colab": {
          "base_uri": "https://localhost:8080/"
        },
        "outputId": "191b18cb-6da1-4eea-c3d6-282e626f7ffe"
      },
      "execution_count": 11,
      "outputs": [
        {
          "output_type": "stream",
          "name": "stdout",
          "text": [
            "8\n"
          ]
        }
      ]
    },
    {
      "cell_type": "code",
      "source": [
        "def crop_images(imgs, x_min, y_min, x_max, y_max):\n",
        "  image=transforms.ToPILImage()(imgs)\n",
        "  plt.subplot(2,2,1)\n",
        "  plt.imshow(image, interpolation=\"bicubic\")\n",
        "  plt.subplot(2,2,2)\n",
        "  \n",
        "  cropped_image=transforms.ToPILImage()(imgs)\n",
        "  width = abs(int(x_min)-int(x_max))\n",
        "  height = abs(int(y_min)-int(y_max))\n",
        "\n",
        "  # Select area to crop\n",
        "  area = (int(x_min), int(y_min), int(x_max), int(y_max))\n",
        "    \n",
        "  cropped_image=cropped_image.crop(area)\n",
        "  plt.imshow(cropped_image)\n",
        "  plt.show()"
      ],
      "metadata": {
        "id": "SMTWeUbrWoBe"
      },
      "execution_count": 12,
      "outputs": []
    },
    {
      "cell_type": "code",
      "source": [
        "def select_info(annotations):\n",
        "  obj_name=annotations[\"annotation\"]['object'][-1]['name']\n",
        "  obj_coord=annotations[\"annotation\"]['object'][-1]['bndbox']\n",
        "  x_min, y_min, x_max, y_max = obj_coord['xmin'], obj_coord['ymin'], obj_coord['xmax'], obj_coord['ymax']\n",
        "  return x_min, y_min, x_max, y_max, obj_name, obj_coord "
      ],
      "metadata": {
        "id": "DVAJZl6EANbJ"
      },
      "execution_count": 13,
      "outputs": []
    },
    {
      "cell_type": "code",
      "source": [
        "device = torch.device(\"cuda:0\" if torch.cuda.is_available() else \"cpu\") \n",
        "\n",
        "epochs=25\n",
        "\n",
        "model= model=DarkNetClassifier(BlockConv1, input_channels=3, num__kernels=1,  num_stride=1, num_classes=10)\n",
        "#test_ConvClassifier()\n",
        "model.to(device)"
      ],
      "metadata": {
        "colab": {
          "base_uri": "https://localhost:8080/"
        },
        "id": "w_QdpcmvtlxV",
        "outputId": "4496595a-8ca5-406f-b17b-44f79d940d59"
      },
      "execution_count": 53,
      "outputs": [
        {
          "output_type": "execute_result",
          "data": {
            "text/plain": [
              "DarkNetClassifier(\n",
              "  (conv1): Conv2d(3, 32, kernel_size=(3, 3), stride=(3, 3), padding=(1, 1), bias=False)\n",
              "  (batch1): BatchNorm2d(32, eps=1e-05, momentum=0.1, affine=True, track_running_stats=True)\n",
              "  (max_pool1): MaxPool2d(kernel_size=2, stride=2, padding=0, dilation=1, ceil_mode=False)\n",
              "  (conv2): Conv2d(32, 64, kernel_size=(3, 3), stride=(3, 3), padding=(1, 1), bias=False)\n",
              "  (batch2): BatchNorm2d(64, eps=1e-05, momentum=0.1, affine=True, track_running_stats=True)\n",
              "  (max_pool2): MaxPool2d(kernel_size=2, stride=2, padding=0, dilation=1, ceil_mode=False)\n",
              "  (conv1_block1): Conv2d(64, 128, kernel_size=(3, 3), stride=(1, 1), padding=(1, 1))\n",
              "  (batch1_block1): BatchNorm2d(128, eps=1e-05, momentum=0.1, affine=True, track_running_stats=True)\n",
              "  (conv2_block1): Conv2d(128, 64, kernel_size=(1, 1), stride=(1, 1))\n",
              "  (batch2_block1): BatchNorm2d(64, eps=1e-05, momentum=0.1, affine=True, track_running_stats=True)\n",
              "  (conv3_block1): Conv2d(64, 128, kernel_size=(3, 3), stride=(1, 1), padding=(1, 1))\n",
              "  (batch3_block1): BatchNorm2d(128, eps=1e-05, momentum=0.1, affine=True, track_running_stats=True)\n",
              "  (max_pool1_block1): MaxPool2d(kernel_size=2, stride=2, padding=0, dilation=1, ceil_mode=False)\n",
              "  (conv1_block2): Conv2d(128, 256, kernel_size=(3, 3), stride=(1, 1), padding=(1, 1))\n",
              "  (batch1_block2): BatchNorm2d(256, eps=1e-05, momentum=0.1, affine=True, track_running_stats=True)\n",
              "  (conv2_block2): Conv2d(256, 128, kernel_size=(1, 1), stride=(1, 1))\n",
              "  (batch2_block2): BatchNorm2d(128, eps=1e-05, momentum=0.1, affine=True, track_running_stats=True)\n",
              "  (conv3_block2): Conv2d(128, 256, kernel_size=(3, 3), stride=(1, 1), padding=(1, 1))\n",
              "  (batch3_block2): BatchNorm2d(256, eps=1e-05, momentum=0.1, affine=True, track_running_stats=True)\n",
              "  (max_pool1_block2): MaxPool2d(kernel_size=2, stride=2, padding=0, dilation=1, ceil_mode=False)\n",
              "  (conv3): Conv2d(256, 512, kernel_size=(3, 3), stride=(1, 1), padding=(1, 1), bias=False)\n",
              "  (batch3): BatchNorm2d(512, eps=1e-05, momentum=0.1, affine=True, track_running_stats=True)\n",
              "  (conv4): Conv2d(512, 256, kernel_size=(1, 1), stride=(1, 1), bias=False)\n",
              "  (batch4): BatchNorm2d(256, eps=1e-05, momentum=0.1, affine=True, track_running_stats=True)\n",
              "  (conv5): Conv2d(256, 512, kernel_size=(3, 3), stride=(1, 1), padding=(1, 1), bias=False)\n",
              "  (batch5): BatchNorm2d(512, eps=1e-05, momentum=0.1, affine=True, track_running_stats=True)\n",
              "  (conv6): Conv2d(512, 256, kernel_size=(1, 1), stride=(1, 1), padding=(1, 1), bias=False)\n",
              "  (batch6): BatchNorm2d(256, eps=1e-05, momentum=0.1, affine=True, track_running_stats=True)\n",
              "  (conv7): Conv2d(256, 512, kernel_size=(3, 3), stride=(1, 1), padding=(1, 1), bias=False)\n",
              "  (batch7): BatchNorm2d(512, eps=1e-05, momentum=0.1, affine=True, track_running_stats=True)\n",
              "  (max_pool3): MaxPool2d(kernel_size=2, stride=2, padding=0, dilation=1, ceil_mode=False)\n",
              "  (conv8): Conv2d(512, 1024, kernel_size=(3, 3), stride=(1, 1), padding=(1, 1), bias=False)\n",
              "  (batch8): BatchNorm2d(1024, eps=1e-05, momentum=0.1, affine=True, track_running_stats=True)\n",
              "  (conv9): Conv2d(1024, 512, kernel_size=(1, 1), stride=(1, 1), bias=False)\n",
              "  (batch9): BatchNorm2d(512, eps=1e-05, momentum=0.1, affine=True, track_running_stats=True)\n",
              "  (conv10): Conv2d(512, 1024, kernel_size=(3, 3), stride=(1, 1), padding=(1, 1), bias=False)\n",
              "  (batch10): BatchNorm2d(1024, eps=1e-05, momentum=0.1, affine=True, track_running_stats=True)\n",
              "  (conv11): Conv2d(1024, 512, kernel_size=(1, 1), stride=(1, 1), padding=(1, 1), bias=False)\n",
              "  (batch11): BatchNorm2d(512, eps=1e-05, momentum=0.1, affine=True, track_running_stats=True)\n",
              "  (conv12): Conv2d(512, 1024, kernel_size=(3, 3), stride=(1, 1), padding=(1, 1), bias=False)\n",
              "  (batch12): BatchNorm2d(1024, eps=1e-05, momentum=0.1, affine=True, track_running_stats=True)\n",
              "  (conv_last_layer): Conv2d(1024, 10, kernel_size=(1, 1), stride=(1, 1), padding=(1, 1), bias=False)\n",
              "  (flatten): Flatten(start_dim=1, end_dim=-1)\n",
              "  (soft): Softmax(dim=1)\n",
              "  (relu): ReLU(inplace=True)\n",
              ")"
            ]
          },
          "metadata": {},
          "execution_count": 53
        }
      ]
    },
    {
      "cell_type": "code",
      "source": [
        "import matplotlib.pyplot as plt\n",
        "from PIL import Image\n",
        "\n",
        "loss_functionn= torch.nn.CrossEntropyLoss()\n",
        "opt=Adam(model.parameters(), lr=1e-4)\n",
        "\n",
        "k=0\n",
        "\n",
        "\n",
        "for epoch in range(epochs):\n",
        "  ##for imgs, annotations in dataset_train.dataset:\n",
        "###  for i, (imgs, annotations) in enumerate(dataset_train):\n",
        "  for batch in dataset_train:\n",
        "    imgs, annotations = batch\n",
        "    #imgs = list(img.to(device) for img in imgs)\n",
        "    #annotations = dict(annotations.items())\n",
        "\n",
        "    ##x_min, y_min, x_max, y_max, obj_name, obj_coord = select_info(annotations)\n",
        "    ##print(obj_name)\n",
        "    ##print(obj_coord)\n",
        "    ##print(x_min, y_min, x_max, y_max)\n",
        "    \n",
        "\n",
        "    ##Y=class_names.get(obj_name)\n",
        "    \n",
        "    ##Crop images\n",
        "    ##crop_images(imgs, x_min, y_min, x_max, y_max)\n",
        "\n",
        "\n",
        "    imgs = imgs.to(device)\n",
        "    annotations = annotations.to(device)\n",
        "\n",
        "    imgs=transforms.Resize((224,224))(imgs)\n",
        "    imgs = imgs.to(device)\n",
        "    \n",
        "    #X=transforms.ToPILImage()(X)\n",
        "    #plt.imshow(X)\n",
        "    #plt.show()\n",
        "\n",
        "    #X=X.squeeze(axis=0)\n",
        "    ##X=X.permute(2, 1, 0)\n",
        "    \n",
        "    Y_pred= model(imgs).to(device)\n",
        "    #Y_pred=torch.reshape(Y_pred, (-1,1))\n",
        "\n",
        "    ##print(torch.argmax(Y_pred))\n",
        "    ##print(annotations)\n",
        "\n",
        "    loss= loss_functionn(Y_pred,annotations)\n",
        "      \n",
        "    opt.zero_grad()\n",
        "    loss.backward()\n",
        "    opt.step()\n",
        "    \n",
        "    #del annotations\n",
        "    #del Y_pred\n",
        "    #del imgs\n",
        "  print(\"Epoch:{}, loss:{}\".format(epoch, loss.item()))"
      ],
      "metadata": {
        "id": "Ou2sDIgEdNcn"
      },
      "execution_count": null,
      "outputs": []
    },
    {
      "cell_type": "code",
      "source": [
        "no_of_layers=0\n",
        "conv_layers=[]\n",
        " \n",
        "model_children=list(model.children())\n",
        " \n",
        "for child in model_children:\n",
        "  if type(child)==nn.Conv2d:\n",
        "    no_of_layers+=1\n",
        "    conv_layers.append(child)\n",
        "  elif type(child)==nn.Sequential:\n",
        "    for layer in child.children():\n",
        "      if type(layer)==nn.Conv2d:\n",
        "        no_of_layers+=1\n",
        "        conv_layers.append(layer)\n",
        "print(no_of_layers)"
      ],
      "metadata": {
        "id": "WUXNdodvRhCg"
      },
      "execution_count": null,
      "outputs": []
    },
    {
      "cell_type": "code",
      "source": [
        "results = [conv_layers[0](imgs)]\n",
        "for i in range(1, len(conv_layers)):\n",
        "    results.append(conv_layers[i](results[-1]))\n",
        "outputs = results"
      ],
      "metadata": {
        "id": "TFo8LrQZU41W"
      },
      "execution_count": null,
      "outputs": []
    },
    {
      "cell_type": "code",
      "source": [
        "import cv2\n",
        "\n",
        "for num_layer in range(len(outputs)):\n",
        "    plt.figure(figsize=(50, 10))\n",
        "    layer_viz = outputs[num_layer][0, :, :, :]\n",
        "    layer_viz = layer_viz.data\n",
        "    print(\"Layer \",num_layer+1)\n",
        "    for i, filter in enumerate(layer_viz):\n",
        "        if i == 16: \n",
        "            break\n",
        "        plt.subplot(2, 8, i + 1)\n",
        "        image = cv2.cvtColor(abs(filter.cpu().numpy()), cv2.COLOR_BGR2RGB)\n",
        "        plt.imshow(image, cmap='gray')\n",
        "        plt.axis(\"off\")\n",
        "    plt.show()\n",
        "    plt.close()"
      ],
      "metadata": {
        "id": "4J-8JPqZWo8E"
      },
      "execution_count": null,
      "outputs": []
    },
    {
      "cell_type": "code",
      "source": [
        "layer_viz[0]"
      ],
      "metadata": {
        "id": "NVnnPohXaKow"
      },
      "execution_count": null,
      "outputs": []
    }
  ]
}